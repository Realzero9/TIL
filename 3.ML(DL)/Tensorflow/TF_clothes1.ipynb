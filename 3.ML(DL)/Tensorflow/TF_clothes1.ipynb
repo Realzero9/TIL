{
 "cells": [
  {
   "cell_type": "markdown",
   "id": "e232d9bf",
   "metadata": {},
   "source": [
    "# 1. 데이터 불러오기"
   ]
  },
  {
   "cell_type": "code",
   "execution_count": 1,
   "id": "1a5060d9",
   "metadata": {},
   "outputs": [],
   "source": [
    "import numpy as np\n",
    "import pandas as pd\n",
    "import tensorflow as tf\n",
    "import glob as glob\n",
    "import cv2\n",
    "\n",
    "all_data = np.array(glob.glob('./archive/clothes_dataset/*/*.jpg', recursive=True))\n",
    "\n",
    "def check_cc(color, clothes):\n",
    "    labels = np.zeros(11,)\n",
    "    \n",
    "    # color check\n",
    "    if(color == 'black'):\n",
    "        labels[0] = 1\n",
    "        color_index = 0\n",
    "    elif(color == 'blue'):\n",
    "        labels[1] = 1\n",
    "        color_index = 1\n",
    "    elif(color == 'brown'):\n",
    "        labels[2] = 1\n",
    "        color_index = 2\n",
    "    elif(color == 'green'):\n",
    "        labels[3] = 1\n",
    "        color_index = 3\n",
    "    elif(color == 'red'):\n",
    "        labels[4] = 1\n",
    "        color_index = 4\n",
    "    elif(color == 'white'):\n",
    "        labels[5] = 1\n",
    "        color_index = 5\n",
    "        \n",
    "    # clothes check\n",
    "    if(clothes == 'dress'):\n",
    "        labels[6] = 1\n",
    "    elif(clothes == 'shirt'):\n",
    "        labels[7] = 1\n",
    "    elif(clothes == 'pants'):\n",
    "        labels[8] = 1\n",
    "    elif(clothes == 'shorts'):\n",
    "        labels[9] = 1\n",
    "    elif(clothes == 'shoes'):\n",
    "        labels[10] = 1\n",
    "        \n",
    "    return labels, color_index\n",
    "\n",
    "all_labels = np.empty((all_data.shape[0], 11))\n",
    "all_color_labels = np.empty((all_data.shape[0], 1))\n",
    "\n",
    "for i, data in enumerate(all_data):\n",
    "    color_and_clothes = all_data[i].split('\\\\')[1].split('_')\n",
    "    color = color_and_clothes[0]\n",
    "    clothes = color_and_clothes[1]\n",
    "    \n",
    "    labels, color_index = check_cc(color, clothes)\n",
    "    all_labels[i] = labels; all_color_labels[i] = color_index\n",
    "    \n",
    "all_labels = np.concatenate((all_labels, all_color_labels), axis = -1)"
   ]
  },
  {
   "cell_type": "code",
   "execution_count": 2,
   "id": "f027a6c1",
   "metadata": {},
   "outputs": [],
   "source": [
    "from sklearn.model_selection import train_test_split\n",
    "\n",
    "train_x, test_x, train_y, test_y = train_test_split(all_data, all_labels, shuffle = True, test_size = 0.3,\n",
    "                                                   random_state = 99)\n",
    "train_x, val_x, train_y, val_y = train_test_split(train_x, train_y, shuffle = True, test_size = 0.3,\n",
    "                                                 random_state = 99)"
   ]
  },
  {
   "cell_type": "code",
   "execution_count": 3,
   "id": "07bd0680",
   "metadata": {},
   "outputs": [],
   "source": [
    "train_df = pd.DataFrame({'image':train_x, 'black':train_y[:, 0], 'blue':train_y[:, 1],\n",
    "                        'brown':train_y[:, 2], 'green':train_y[:, 3], 'red':train_y[:, 4],\n",
    "                        'white':train_y[:, 5], 'dress':train_y[:, 6], 'shirt':train_y[:, 7],\n",
    "                        'pants':train_y[:, 8], 'shorts':train_y[:, 9], 'shoes':train_y[:, 10],\n",
    "                        'color':train_y[:, 11]})\n",
    "\n",
    "val_df = pd.DataFrame({'image':val_x, 'black':val_y[:, 0], 'blue':val_y[:, 1],\n",
    "                        'brown':val_y[:, 2], 'green':val_y[:, 3], 'red':val_y[:, 4],\n",
    "                        'white':val_y[:, 5], 'dress':val_y[:, 6], 'shirt':val_y[:, 7],\n",
    "                        'pants':val_y[:, 8], 'shorts':val_y[:, 9], 'shoes':val_y[:, 10],\n",
    "                        'color':val_y[:, 11]})\n",
    "\n",
    "test_df = pd.DataFrame({'image':test_x, 'black':test_y[:, 0], 'blue':test_y[:, 1],\n",
    "                        'brown':test_y[:, 2], 'green':test_y[:, 3], 'red':test_y[:, 4],\n",
    "                        'white':test_y[:, 5], 'dress':test_y[:, 6], 'shirt':test_y[:, 7],\n",
    "                        'pants':test_y[:, 8], 'shorts':test_y[:, 9], 'shoes':test_y[:, 10],\n",
    "                        'color':test_y[:, 11]})"
   ]
  },
  {
   "cell_type": "code",
   "execution_count": 4,
   "id": "6ae43903",
   "metadata": {},
   "outputs": [],
   "source": [
    "train_df.to_csv('./csv_data/nocolorinfo/train.csv')\n",
    "val_df.to_csv('./csv_data/nocolorinfo/val.csv')\n",
    "test_df.to_csv('./csv_data/nocolorinfo/test.csv')"
   ]
  },
  {
   "cell_type": "code",
   "execution_count": 5,
   "id": "daae9cd1",
   "metadata": {},
   "outputs": [],
   "source": [
    "train_df.to_csv('./csv_data/colorinfo/train_color.csv')\n",
    "val_df.to_csv('./csv_data/colorinfo/val_color.csv')\n",
    "test_df.to_csv('./csv_data/colorinfo/test_color.csv')"
   ]
  },
  {
   "cell_type": "code",
   "execution_count": 6,
   "id": "473d7d7b",
   "metadata": {},
   "outputs": [
    {
     "data": {
      "text/html": [
       "<div>\n",
       "<style scoped>\n",
       "    .dataframe tbody tr th:only-of-type {\n",
       "        vertical-align: middle;\n",
       "    }\n",
       "\n",
       "    .dataframe tbody tr th {\n",
       "        vertical-align: top;\n",
       "    }\n",
       "\n",
       "    .dataframe thead th {\n",
       "        text-align: right;\n",
       "    }\n",
       "</style>\n",
       "<table border=\"1\" class=\"dataframe\">\n",
       "  <thead>\n",
       "    <tr style=\"text-align: right;\">\n",
       "      <th></th>\n",
       "      <th>image</th>\n",
       "      <th>black</th>\n",
       "      <th>blue</th>\n",
       "      <th>brown</th>\n",
       "      <th>green</th>\n",
       "      <th>red</th>\n",
       "      <th>white</th>\n",
       "      <th>dress</th>\n",
       "      <th>shirt</th>\n",
       "      <th>pants</th>\n",
       "      <th>shorts</th>\n",
       "      <th>shoes</th>\n",
       "      <th>color</th>\n",
       "    </tr>\n",
       "  </thead>\n",
       "  <tbody>\n",
       "    <tr>\n",
       "      <th>0</th>\n",
       "      <td>./archive/clothes_dataset\\green_shoes\\f1f33bed...</td>\n",
       "      <td>0.0</td>\n",
       "      <td>0.0</td>\n",
       "      <td>0.0</td>\n",
       "      <td>1.0</td>\n",
       "      <td>0.0</td>\n",
       "      <td>0.0</td>\n",
       "      <td>0.0</td>\n",
       "      <td>0.0</td>\n",
       "      <td>0.0</td>\n",
       "      <td>0.0</td>\n",
       "      <td>1.0</td>\n",
       "      <td>3.0</td>\n",
       "    </tr>\n",
       "    <tr>\n",
       "      <th>1</th>\n",
       "      <td>./archive/clothes_dataset\\brown_pants\\8a797ffb...</td>\n",
       "      <td>0.0</td>\n",
       "      <td>0.0</td>\n",
       "      <td>1.0</td>\n",
       "      <td>0.0</td>\n",
       "      <td>0.0</td>\n",
       "      <td>0.0</td>\n",
       "      <td>0.0</td>\n",
       "      <td>0.0</td>\n",
       "      <td>1.0</td>\n",
       "      <td>0.0</td>\n",
       "      <td>0.0</td>\n",
       "      <td>2.0</td>\n",
       "    </tr>\n",
       "    <tr>\n",
       "      <th>2</th>\n",
       "      <td>./archive/clothes_dataset\\white_dress\\ef86bf5e...</td>\n",
       "      <td>0.0</td>\n",
       "      <td>0.0</td>\n",
       "      <td>0.0</td>\n",
       "      <td>0.0</td>\n",
       "      <td>0.0</td>\n",
       "      <td>1.0</td>\n",
       "      <td>1.0</td>\n",
       "      <td>0.0</td>\n",
       "      <td>0.0</td>\n",
       "      <td>0.0</td>\n",
       "      <td>0.0</td>\n",
       "      <td>5.0</td>\n",
       "    </tr>\n",
       "    <tr>\n",
       "      <th>3</th>\n",
       "      <td>./archive/clothes_dataset\\black_shoes\\ff7f5589...</td>\n",
       "      <td>1.0</td>\n",
       "      <td>0.0</td>\n",
       "      <td>0.0</td>\n",
       "      <td>0.0</td>\n",
       "      <td>0.0</td>\n",
       "      <td>0.0</td>\n",
       "      <td>0.0</td>\n",
       "      <td>0.0</td>\n",
       "      <td>0.0</td>\n",
       "      <td>0.0</td>\n",
       "      <td>1.0</td>\n",
       "      <td>0.0</td>\n",
       "    </tr>\n",
       "    <tr>\n",
       "      <th>4</th>\n",
       "      <td>./archive/clothes_dataset\\blue_pants\\b354ab537...</td>\n",
       "      <td>0.0</td>\n",
       "      <td>1.0</td>\n",
       "      <td>0.0</td>\n",
       "      <td>0.0</td>\n",
       "      <td>0.0</td>\n",
       "      <td>0.0</td>\n",
       "      <td>0.0</td>\n",
       "      <td>0.0</td>\n",
       "      <td>1.0</td>\n",
       "      <td>0.0</td>\n",
       "      <td>0.0</td>\n",
       "      <td>1.0</td>\n",
       "    </tr>\n",
       "  </tbody>\n",
       "</table>\n",
       "</div>"
      ],
      "text/plain": [
       "                                               image  black  blue  brown  \\\n",
       "0  ./archive/clothes_dataset\\green_shoes\\f1f33bed...    0.0   0.0    0.0   \n",
       "1  ./archive/clothes_dataset\\brown_pants\\8a797ffb...    0.0   0.0    1.0   \n",
       "2  ./archive/clothes_dataset\\white_dress\\ef86bf5e...    0.0   0.0    0.0   \n",
       "3  ./archive/clothes_dataset\\black_shoes\\ff7f5589...    1.0   0.0    0.0   \n",
       "4  ./archive/clothes_dataset\\blue_pants\\b354ab537...    0.0   1.0    0.0   \n",
       "\n",
       "   green  red  white  dress  shirt  pants  shorts  shoes  color  \n",
       "0    1.0  0.0    0.0    0.0    0.0    0.0     0.0    1.0    3.0  \n",
       "1    0.0  0.0    0.0    0.0    0.0    1.0     0.0    0.0    2.0  \n",
       "2    0.0  0.0    1.0    1.0    0.0    0.0     0.0    0.0    5.0  \n",
       "3    0.0  0.0    0.0    0.0    0.0    0.0     0.0    1.0    0.0  \n",
       "4    0.0  0.0    0.0    0.0    0.0    1.0     0.0    0.0    1.0  "
      ]
     },
     "execution_count": 6,
     "metadata": {},
     "output_type": "execute_result"
    }
   ],
   "source": [
    "import pandas as pd\n",
    "\n",
    "DATA_PATH = './csv_data/nocolorinfo/'\n",
    "\n",
    "train_df = pd.read_csv(DATA_PATH + 'train.csv', index_col = 0)\n",
    "val_df = pd.read_csv(DATA_PATH + 'val.csv', index_col = 0)\n",
    "test_df = pd.read_csv(DATA_PATH + 'test.csv', index_col = 0)\n",
    "\n",
    "train_df.head()"
   ]
  },
  {
   "cell_type": "markdown",
   "id": "6cb06af5",
   "metadata": {},
   "source": [
    "# 2. 이미지 제너레이터 정의 및 모델 구성"
   ]
  },
  {
   "cell_type": "code",
   "execution_count": 7,
   "id": "1faee490",
   "metadata": {},
   "outputs": [],
   "source": [
    "from tensorflow.keras.preprocessing.image import ImageDataGenerator\n",
    "\n",
    "train_datagen = ImageDataGenerator(rescale = 1./255)\n",
    "val_datagen = ImageDataGenerator(rescale = 1./255)\n",
    "\n",
    "def get_steps(num_samples, batch_size):\n",
    "    if (num_samples % batch_size) > 0:\n",
    "        return (num_samples // batch_size) + 1\n",
    "    else:\n",
    "        return num_samples // batch_size"
   ]
  },
  {
   "cell_type": "code",
   "execution_count": 8,
   "id": "d82dba5d",
   "metadata": {},
   "outputs": [],
   "source": [
    "from tensorflow.keras.models import Sequential\n",
    "from tensorflow.keras.layers import Dense, Flatten\n",
    "\n",
    "model = Sequential()\n",
    "model.add(Flatten(input_shape = (112,112,3)))\n",
    "model.add(Dense(128, activation = 'relu'))\n",
    "model.add(Dense(64, activation = 'relu'))\n",
    "model.add(Dense(11, activation = 'sigmoid'))\n",
    "\n",
    "model.compile(optimizer = 'adam',\n",
    "             loss = 'binary_crossentropy',\n",
    "             metrics = ['acc'])"
   ]
  },
  {
   "cell_type": "markdown",
   "id": "1145a1d4",
   "metadata": {},
   "source": [
    "# 3. 데이터 제너레이터 정의"
   ]
  },
  {
   "cell_type": "code",
   "execution_count": 9,
   "id": "4d6ce47c",
   "metadata": {},
   "outputs": [
    {
     "name": "stdout",
     "output_type": "stream",
     "text": [
      "Found 5578 validated image filenames.\n",
      "Found 2391 validated image filenames.\n"
     ]
    }
   ],
   "source": [
    "batch_size = 32\n",
    "class_col = ['black', 'blue', 'brown', 'green', 'red', 'white', 'dress', 'shirt', 'pants', 'shorts', 'shoes']\n",
    "\n",
    "train_generator = train_datagen.flow_from_dataframe(dataframe = train_df, directory='', x_col = 'image', y_col = class_col,\n",
    "                                                   target_size = (112, 112), color_mode = 'rgb', class_mode = 'other',\n",
    "                                                   batch_size = batch_size, seed = 42)\n",
    "\n",
    "val_generator = val_datagen.flow_from_dataframe(dataframe = val_df, directory='', x_col = 'image', y_col = class_col,\n",
    "                                                   target_size = (112, 112), color_mode = 'rgb', class_mode = 'other',\n",
    "                                                   batch_size = batch_size, shuffle = True)"
   ]
  },
  {
   "cell_type": "markdown",
   "id": "2b22f9da",
   "metadata": {},
   "source": [
    "# 4. 모델학습"
   ]
  },
  {
   "cell_type": "code",
   "execution_count": 10,
   "id": "cc27598f",
   "metadata": {},
   "outputs": [
    {
     "name": "stdout",
     "output_type": "stream",
     "text": [
      "Epoch 1/10\n",
      "175/175 [==============================] - 16s 86ms/step - loss: 0.5377 - acc: 0.2743 - val_loss: 0.3421 - val_acc: 0.5546\n",
      "Epoch 2/10\n",
      "175/175 [==============================] - 14s 83ms/step - loss: 0.2801 - acc: 0.4096 - val_loss: 0.2570 - val_acc: 0.3931\n",
      "Epoch 3/10\n",
      "175/175 [==============================] - 14s 82ms/step - loss: 0.2371 - acc: 0.4607 - val_loss: 0.2280 - val_acc: 0.4207\n",
      "Epoch 4/10\n",
      "175/175 [==============================] - 14s 83ms/step - loss: 0.2144 - acc: 0.5022 - val_loss: 0.2303 - val_acc: 0.4760\n",
      "Epoch 5/10\n",
      "175/175 [==============================] - 15s 88ms/step - loss: 0.1978 - acc: 0.5235 - val_loss: 0.1923 - val_acc: 0.5554\n",
      "Epoch 6/10\n",
      "175/175 [==============================] - 15s 85ms/step - loss: 0.1846 - acc: 0.5380 - val_loss: 0.2047 - val_acc: 0.6307\n",
      "Epoch 7/10\n",
      "175/175 [==============================] - 14s 82ms/step - loss: 0.1842 - acc: 0.5550 - val_loss: 0.1861 - val_acc: 0.5646\n",
      "Epoch 8/10\n",
      "175/175 [==============================] - 14s 82ms/step - loss: 0.1673 - acc: 0.5753 - val_loss: 0.1989 - val_acc: 0.6110\n",
      "Epoch 9/10\n",
      "175/175 [==============================] - 14s 82ms/step - loss: 0.1651 - acc: 0.5733 - val_loss: 0.2037 - val_acc: 0.5600\n",
      "Epoch 10/10\n",
      "175/175 [==============================] - 14s 82ms/step - loss: 0.1646 - acc: 0.5764 - val_loss: 0.1975 - val_acc: 0.5985\n"
     ]
    },
    {
     "data": {
      "text/plain": [
       "<keras.callbacks.History at 0x197e2a1abc0>"
      ]
     },
     "execution_count": 10,
     "metadata": {},
     "output_type": "execute_result"
    }
   ],
   "source": [
    "model.fit(train_generator, steps_per_epoch = get_steps(len(train_df), batch_size),\n",
    "         validation_data = val_generator, validation_steps = get_steps(len(val_df), batch_size),\n",
    "         epochs = 10)"
   ]
  },
  {
   "cell_type": "markdown",
   "id": "619ee392",
   "metadata": {},
   "source": [
    "# 5. 테스트 데이터 준비"
   ]
  },
  {
   "cell_type": "code",
   "execution_count": 11,
   "id": "0b168b0e",
   "metadata": {},
   "outputs": [
    {
     "name": "stdout",
     "output_type": "stream",
     "text": [
      "Found 3416 validated image filenames.\n"
     ]
    }
   ],
   "source": [
    "test_datagen = ImageDataGenerator(rescale = 1./255)\n",
    "\n",
    "test_generator = test_datagen.flow_from_dataframe(\n",
    "    dataframe=test_df, \n",
    "    directory=None,\n",
    "    x_col = 'image',\n",
    "    y_col = None,\n",
    "    target_size = (112, 112),\n",
    "    color_mode='rgb',\n",
    "    class_mode=None,\n",
    "    batch_size=batch_size,\n",
    "    shuffle = False\n",
    ")"
   ]
  },
  {
   "cell_type": "markdown",
   "id": "b8dd8c74",
   "metadata": {},
   "source": [
    "# 6. 예측"
   ]
  },
  {
   "cell_type": "code",
   "execution_count": 12,
   "id": "cc759d2b",
   "metadata": {},
   "outputs": [
    {
     "name": "stdout",
     "output_type": "stream",
     "text": [
      "107/107 [==============================] - 6s 57ms/step\n"
     ]
    }
   ],
   "source": [
    "preds = model.predict(test_generator,\n",
    "                      steps = get_steps(len(test_df), batch_size),\n",
    "                      verbose = 1)"
   ]
  },
  {
   "cell_type": "code",
   "execution_count": 13,
   "id": "9ae14d78",
   "metadata": {},
   "outputs": [
    {
     "data": {
      "image/png": "[encoded data removed]",
      "text/plain": [
       "<Figure size 432x288 with 8 Axes>"
      ]
     },
     "metadata": {
      "needs_background": "light"
     },
     "output_type": "display_data"
    }
   ],
   "source": [
    "import matplotlib.pyplot as plt\n",
    "import cv2\n",
    "\n",
    "do_preds = preds[:8]\n",
    "\n",
    "for i, pred in enumerate(do_preds):\n",
    "    plt.subplot(2, 4, i+1)\n",
    "    prob = zip(class_col, list(pred))\n",
    "    prob = sorted(list(prob), key = lambda z: z[1], reverse = True)[:2]\n",
    "    \n",
    "    image = cv2.imread(test_df['image'][i])\n",
    "    image = cv2.cvtColor(image, cv2.COLOR_BGR2RGB)\n",
    "    \n",
    "    plt.imshow(image)\n",
    "    plt.title(f'{prob[0][0]}: {round(prob[0][1] * 100, 2)}% \\n {prob[1][0]}: {round(prob[1][1] * 100, 2)}%')\n",
    "    \n",
    "plt.tight_layout()\n",
    "plt.show()"
   ]
  },
  {
   "cell_type": "code",
   "execution_count": null,
   "id": "07da6d5f",
   "metadata": {},
   "outputs": [],
   "source": []
  }
 ],
 "metadata": {
  "kernelspec": {
   "display_name": "keras_study",
   "language": "python",
   "name": "keras_study"
  },
  "language_info": {
   "codemirror_mode": {
    "name": "ipython",
    "version": 3
   },
   "file_extension": ".py",
   "mimetype": "text/x-python",
   "name": "python",
   "nbconvert_exporter": "python",
   "pygments_lexer": "ipython3",
   "version": "3.10.4"
  }
 },
 "nbformat": 4,
 "nbformat_minor": 5
}
