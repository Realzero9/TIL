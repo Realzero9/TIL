{
 "cells": [
  {
   "cell_type": "markdown",
   "id": "67e4c641",
   "metadata": {},
   "source": [
    "# 1. MNIST 데이터셋"
   ]
  },
  {
   "cell_type": "code",
   "execution_count": 1,
   "id": "fb179140",
   "metadata": {},
   "outputs": [],
   "source": [
    "from tensorflow.keras.datasets.mnist import load_data"
   ]
  },
  {
   "cell_type": "code",
   "execution_count": 2,
   "id": "e68b82bf",
   "metadata": {},
   "outputs": [
    {
     "name": "stdout",
     "output_type": "stream",
     "text": [
      "Downloading data from https://storage.googleapis.com/tensorflow/tf-keras-datasets/mnist.npz\n",
      "11490434/11490434 [==============================] - 1s 0us/step\n"
     ]
    }
   ],
   "source": [
    "(x_train,y_train), (x_test, y_test) = load_data(path='mnist.npz')"
   ]
  },
  {
   "cell_type": "code",
   "execution_count": 3,
   "id": "7ce89e81",
   "metadata": {},
   "outputs": [
    {
     "name": "stdout",
     "output_type": "stream",
     "text": [
      "(60000, 28, 28) (60000,)\n"
     ]
    }
   ],
   "source": [
    "print(x_train.shape, y_train.shape)"
   ]
  },
  {
   "cell_type": "code",
   "execution_count": 4,
   "id": "b7fffeb2",
   "metadata": {},
   "outputs": [
    {
     "name": "stdout",
     "output_type": "stream",
     "text": [
      "[5 0 4 ... 5 6 8]\n"
     ]
    }
   ],
   "source": [
    "print(y_train)"
   ]
  },
  {
   "cell_type": "code",
   "execution_count": 5,
   "id": "14d2e2f0",
   "metadata": {},
   "outputs": [
    {
     "name": "stdout",
     "output_type": "stream",
     "text": [
      "(10000, 28, 28) (10000,)\n"
     ]
    }
   ],
   "source": [
    "print(x_test.shape, y_test.shape)"
   ]
  },
  {
   "cell_type": "code",
   "execution_count": 6,
   "id": "dc2ac86a",
   "metadata": {},
   "outputs": [
    {
     "name": "stdout",
     "output_type": "stream",
     "text": [
      "[7 2 1 ... 4 5 6]\n"
     ]
    }
   ],
   "source": [
    "print(y_test)"
   ]
  },
  {
   "cell_type": "markdown",
   "id": "e0fbb681",
   "metadata": {},
   "source": [
    "# 2. 데이터그리기"
   ]
  },
  {
   "cell_type": "code",
   "execution_count": 7,
   "id": "9da1cb88",
   "metadata": {},
   "outputs": [],
   "source": [
    "import matplotlib.pyplot as plt\n",
    "import numpy as np"
   ]
  },
  {
   "cell_type": "code",
   "execution_count": 8,
   "id": "3ed49cab",
   "metadata": {},
   "outputs": [
    {
     "data": {
      "image/png": "[encoded data removed]",
      "text/plain": [
       "<Figure size 432x288 with 1 Axes>"
      ]
     },
     "metadata": {
      "needs_background": "light"
     },
     "output_type": "display_data"
    },
    {
     "data": {
      "image/png": "[encoded data removed]",
      "text/plain": [
       "<Figure size 432x288 with 1 Axes>"
      ]
     },
     "metadata": {
      "needs_background": "light"
     },
     "output_type": "display_data"
    },
    {
     "data": {
      "image/png": "[encoded data removed]",
      "text/plain": [
       "<Figure size 432x288 with 1 Axes>"
      ]
     },
     "metadata": {
      "needs_background": "light"
     },
     "output_type": "display_data"
    }
   ],
   "source": [
    "sample_size = 3\n",
    "random_idx = np.random.randint(60000, size=sample_size)\n",
    "\n",
    "for idx in random_idx:\n",
    "    img = x_train[idx, :]\n",
    "    label = y_train[idx]\n",
    "    plt.figure()\n",
    "    plt.imshow(img)\n",
    "    plt.title('%d-th data, label is %d' % (idx,label))"
   ]
  },
  {
   "cell_type": "markdown",
   "id": "5be47558",
   "metadata": {},
   "source": [
    "# 3. 검증 데이터 만들기"
   ]
  },
  {
   "cell_type": "code",
   "execution_count": 9,
   "id": "bbb44a48",
   "metadata": {},
   "outputs": [],
   "source": [
    "from sklearn.model_selection import train_test_split"
   ]
  },
  {
   "cell_type": "code",
   "execution_count": 10,
   "id": "ce481703",
   "metadata": {},
   "outputs": [
    {
     "name": "stdout",
     "output_type": "stream",
     "text": [
      "훈련데이터 (42000, 28, 28) 레이블(42000,)\n",
      "검증데이터 (18000, 28, 28) 레이블(18000,)\n"
     ]
    }
   ],
   "source": [
    "x_train, x_val, y_train, y_val = train_test_split(x_train, y_train, test_size = 0.3, random_state=777)\n",
    "print(f'훈련데이터 {x_train.shape} 레이블{y_train.shape}')\n",
    "print(f'검증데이터 {x_val.shape} 레이블{y_val.shape}')"
   ]
  },
  {
   "cell_type": "markdown",
   "id": "f4b94dc3",
   "metadata": {},
   "source": [
    "# 4. 모델입력을 위한 데이터 전처리"
   ]
  },
  {
   "cell_type": "code",
   "execution_count": 11,
   "id": "41e5dbc3",
   "metadata": {},
   "outputs": [
    {
     "name": "stdout",
     "output_type": "stream",
     "text": [
      "(42000, 784)\n"
     ]
    }
   ],
   "source": [
    "num_x_train = x_train.shape[0]\n",
    "num_x_val = x_val.shape[0]\n",
    "num_x_test = x_test.shape[0]\n",
    "\n",
    "x_train = (x_train.reshape((num_x_train, 28 * 28))) / 255\n",
    "x_val = (x_val.reshape((num_x_val, 28 * 28))) / 255\n",
    "x_test = (x_test.reshape((num_x_test, 28 * 28))) / 255\n",
    "\n",
    "print(x_train.shape)"
   ]
  },
  {
   "cell_type": "markdown",
   "id": "0d41b095",
   "metadata": {},
   "source": [
    "- 레이블 전처리"
   ]
  },
  {
   "cell_type": "code",
   "execution_count": 12,
   "id": "055d9a8d",
   "metadata": {},
   "outputs": [
    {
     "name": "stdout",
     "output_type": "stream",
     "text": [
      "[[0. 0. 1. ... 0. 0. 0.]\n",
      " [0. 0. 0. ... 1. 0. 0.]\n",
      " [0. 0. 0. ... 0. 0. 0.]\n",
      " ...\n",
      " [0. 0. 0. ... 0. 0. 0.]\n",
      " [0. 0. 0. ... 0. 0. 0.]\n",
      " [0. 0. 0. ... 0. 0. 0.]]\n"
     ]
    }
   ],
   "source": [
    "from tensorflow.keras.utils import to_categorical\n",
    "\n",
    "y_train = to_categorical(y_train)\n",
    "y_val = to_categorical(y_val)\n",
    "y_test = to_categorical(y_test)\n",
    "\n",
    "print(y_train)"
   ]
  },
  {
   "cell_type": "markdown",
   "id": "b96e19b0",
   "metadata": {},
   "source": [
    "# 5. 모델 구성하기"
   ]
  },
  {
   "cell_type": "code",
   "execution_count": 13,
   "id": "1c1ad5f5",
   "metadata": {},
   "outputs": [],
   "source": [
    "from tensorflow.keras.models import Sequential\n",
    "from tensorflow.keras.layers import Dense\n",
    "\n",
    "model = Sequential()\n",
    "# 784차원의 데이터 입력받고, 64개의 출력\n",
    "model.add(Dense(64, activation = 'relu', input_shape = (784, )))\n",
    "# 32개 출력\n",
    "model.add(Dense(32, activation = 'relu'))\n",
    "# 10개 출력\n",
    "model.add(Dense(10, activation = 'softmax'))"
   ]
  },
  {
   "cell_type": "markdown",
   "id": "d6ca0df5",
   "metadata": {},
   "source": [
    "# 6. softmax와 sigmoid 값의 비교"
   ]
  },
  {
   "cell_type": "code",
   "execution_count": 14,
   "id": "f8f78aae",
   "metadata": {},
   "outputs": [
    {
     "name": "stdout",
     "output_type": "stream",
     "text": [
      "sigmoid [0.957 0.953 0.948], softmax [0.367 0.332 0.301]\n",
      "sigmoid [0.881 0.731 0.668], softmax [0.61  0.224 0.166]\n"
     ]
    }
   ],
   "source": [
    "def softmax(arr):\n",
    "    m = np.max(arr)\n",
    "    arr = arr - m\n",
    "    arr = np.exp(arr)\n",
    "    return arr / np.sum(arr)\n",
    "\n",
    "def sigmoid(x):\n",
    "    return 1 / (1 + np.exp(-x))\n",
    "\n",
    "case_1 = np.array([3.1, 3.0, 2.9])\n",
    "case_2 = np.array([2.0, 1.0, 0.7])\n",
    "\n",
    "np.set_printoptions(precision=3) # numpy 소수점 제한\n",
    "print(f'sigmoid {sigmoid(case_1)}, softmax {softmax(case_1)}')\n",
    "print(f'sigmoid {sigmoid(case_2)}, softmax {softmax(case_2)}')    "
   ]
  },
  {
   "cell_type": "markdown",
   "id": "637b954f",
   "metadata": {},
   "source": [
    "# 7. compile 설정(학습과정)"
   ]
  },
  {
   "cell_type": "code",
   "execution_count": 16,
   "id": "beaf516a",
   "metadata": {},
   "outputs": [],
   "source": [
    "model.compile(optimizer = 'adam', # adam의 기본학습률 0.001\n",
    "              loss = 'categorical_crossentropy',\n",
    "              metrics = ['acc'])"
   ]
  },
  {
   "cell_type": "markdown",
   "id": "e4c38f29",
   "metadata": {},
   "source": [
    "# 8. 모델 학습"
   ]
  },
  {
   "cell_type": "code",
   "execution_count": 17,
   "id": "581676ca",
   "metadata": {},
   "outputs": [
    {
     "name": "stdout",
     "output_type": "stream",
     "text": [
      "Epoch 1/30\n",
      "329/329 [==============================] - 1s 3ms/step - loss: 0.4907 - acc: 0.8595 - val_loss: 0.2631 - val_acc: 0.9249\n",
      "Epoch 2/30\n",
      "329/329 [==============================] - 1s 2ms/step - loss: 0.2166 - acc: 0.9373 - val_loss: 0.1955 - val_acc: 0.9447\n",
      "Epoch 3/30\n",
      "329/329 [==============================] - 1s 2ms/step - loss: 0.1699 - acc: 0.9505 - val_loss: 0.1647 - val_acc: 0.9533\n",
      "Epoch 4/30\n",
      "329/329 [==============================] - 1s 2ms/step - loss: 0.1365 - acc: 0.9605 - val_loss: 0.1502 - val_acc: 0.9572\n",
      "Epoch 5/30\n",
      "329/329 [==============================] - 1s 2ms/step - loss: 0.1137 - acc: 0.9669 - val_loss: 0.1346 - val_acc: 0.9616\n",
      "Epoch 6/30\n",
      "329/329 [==============================] - 1s 2ms/step - loss: 0.0967 - acc: 0.9719 - val_loss: 0.1290 - val_acc: 0.9622\n",
      "Epoch 7/30\n",
      "329/329 [==============================] - 1s 2ms/step - loss: 0.0842 - acc: 0.9756 - val_loss: 0.1164 - val_acc: 0.9658\n",
      "Epoch 8/30\n",
      "329/329 [==============================] - 1s 2ms/step - loss: 0.0724 - acc: 0.9790 - val_loss: 0.1134 - val_acc: 0.9664\n",
      "Epoch 9/30\n",
      "329/329 [==============================] - 1s 2ms/step - loss: 0.0635 - acc: 0.9812 - val_loss: 0.1114 - val_acc: 0.9662\n",
      "Epoch 10/30\n",
      "329/329 [==============================] - 1s 2ms/step - loss: 0.0572 - acc: 0.9831 - val_loss: 0.1085 - val_acc: 0.9687\n",
      "Epoch 11/30\n",
      "329/329 [==============================] - 1s 2ms/step - loss: 0.0491 - acc: 0.9854 - val_loss: 0.1061 - val_acc: 0.9690\n",
      "Epoch 12/30\n",
      "329/329 [==============================] - 1s 2ms/step - loss: 0.0437 - acc: 0.9870 - val_loss: 0.1089 - val_acc: 0.9685\n",
      "Epoch 13/30\n",
      "329/329 [==============================] - 1s 2ms/step - loss: 0.0381 - acc: 0.9891 - val_loss: 0.1078 - val_acc: 0.9686\n",
      "Epoch 14/30\n",
      "329/329 [==============================] - 1s 2ms/step - loss: 0.0356 - acc: 0.9895 - val_loss: 0.1047 - val_acc: 0.9702\n",
      "Epoch 15/30\n",
      "329/329 [==============================] - 1s 2ms/step - loss: 0.0295 - acc: 0.9914 - val_loss: 0.1107 - val_acc: 0.9686\n",
      "Epoch 16/30\n",
      "329/329 [==============================] - 1s 2ms/step - loss: 0.0268 - acc: 0.9925 - val_loss: 0.1096 - val_acc: 0.9701\n",
      "Epoch 17/30\n",
      "329/329 [==============================] - 1s 2ms/step - loss: 0.0232 - acc: 0.9936 - val_loss: 0.1100 - val_acc: 0.9712\n",
      "Epoch 18/30\n",
      "329/329 [==============================] - 1s 2ms/step - loss: 0.0198 - acc: 0.9946 - val_loss: 0.1142 - val_acc: 0.9698\n",
      "Epoch 19/30\n",
      "329/329 [==============================] - 1s 2ms/step - loss: 0.0181 - acc: 0.9952 - val_loss: 0.1113 - val_acc: 0.9710\n",
      "Epoch 20/30\n",
      "329/329 [==============================] - 1s 2ms/step - loss: 0.0162 - acc: 0.9959 - val_loss: 0.1206 - val_acc: 0.9694\n",
      "Epoch 21/30\n",
      "329/329 [==============================] - 1s 2ms/step - loss: 0.0152 - acc: 0.9960 - val_loss: 0.1200 - val_acc: 0.9694\n",
      "Epoch 22/30\n",
      "329/329 [==============================] - 1s 2ms/step - loss: 0.0145 - acc: 0.9958 - val_loss: 0.1344 - val_acc: 0.9672\n",
      "Epoch 23/30\n",
      "329/329 [==============================] - 1s 2ms/step - loss: 0.0117 - acc: 0.9968 - val_loss: 0.1216 - val_acc: 0.9703\n",
      "Epoch 24/30\n",
      "329/329 [==============================] - 1s 2ms/step - loss: 0.0101 - acc: 0.9975 - val_loss: 0.1363 - val_acc: 0.9678\n",
      "Epoch 25/30\n",
      "329/329 [==============================] - 1s 2ms/step - loss: 0.0117 - acc: 0.9969 - val_loss: 0.1337 - val_acc: 0.9695\n",
      "Epoch 26/30\n",
      "329/329 [==============================] - 1s 2ms/step - loss: 0.0067 - acc: 0.9988 - val_loss: 0.1314 - val_acc: 0.9704\n",
      "Epoch 27/30\n",
      "329/329 [==============================] - 1s 2ms/step - loss: 0.0095 - acc: 0.9972 - val_loss: 0.1587 - val_acc: 0.9645\n",
      "Epoch 28/30\n",
      "329/329 [==============================] - 1s 2ms/step - loss: 0.0071 - acc: 0.9984 - val_loss: 0.1383 - val_acc: 0.9704\n",
      "Epoch 29/30\n",
      "329/329 [==============================] - 1s 2ms/step - loss: 0.0069 - acc: 0.9983 - val_loss: 0.1382 - val_acc: 0.9715\n",
      "Epoch 30/30\n",
      "329/329 [==============================] - 1s 2ms/step - loss: 0.0071 - acc: 0.9980 - val_loss: 0.1579 - val_acc: 0.9675\n"
     ]
    }
   ],
   "source": [
    "history = model.fit(x_train, y_train,\n",
    "                   epochs = 30,\n",
    "                   batch_size = 128,\n",
    "                   validation_data = (x_val, y_val))"
   ]
  },
  {
   "cell_type": "code",
   "execution_count": 18,
   "id": "c6faa149",
   "metadata": {},
   "outputs": [
    {
     "data": {
      "text/plain": [
       "dict_keys(['loss', 'acc', 'val_loss', 'val_acc'])"
      ]
     },
     "execution_count": 18,
     "metadata": {},
     "output_type": "execute_result"
    }
   ],
   "source": [
    "history.history.keys()"
   ]
  },
  {
   "cell_type": "markdown",
   "id": "43961efd",
   "metadata": {},
   "source": [
    "# 9. 학습결과 그려보기"
   ]
  },
  {
   "cell_type": "code",
   "execution_count": 23,
   "id": "a53723bf",
   "metadata": {},
   "outputs": [
    {
     "data": {
      "image/png": "[encoded data removed]",
      "text/plain": [
       "<Figure size 720x360 with 2 Axes>"
      ]
     },
     "metadata": {
      "needs_background": "light"
     },
     "output_type": "display_data"
    }
   ],
   "source": [
    "import matplotlib.pyplot as plt\n",
    "\n",
    "his_dict = history.history\n",
    "loss = his_dict['loss']\n",
    "val_loss = his_dict['val_loss']\n",
    "epochs = range(1, len(loss) +1)\n",
    "fig = plt.figure(figsize= (10, 5))\n",
    "\n",
    "# 학습 및 검증 손실 그리기\n",
    "ax1 = fig.add_subplot(1, 2, 1)\n",
    "ax1.plot(epochs, loss, color = 'blue', label = 'train_loss')\n",
    "ax1.plot(epochs, val_loss, color = 'orange', label = 'val_loss')\n",
    "ax1.set_title('train and val loss')\n",
    "ax1.set_xlabel('epochs')\n",
    "ax1.set_ylabel('loss')\n",
    "ax1.legend()\n",
    "\n",
    "acc = his_dict['acc']\n",
    "val_acc = his_dict['val_acc']\n",
    "\n",
    "# 학습 및 검증 정확도 그리기\n",
    "ax2 = fig.add_subplot(1, 2, 2)\n",
    "ax2.plot(epochs, acc, color = 'blue', label = 'train_acc')\n",
    "ax2.plot(epochs, val_acc, color = 'orange', label = 'val_acc')\n",
    "ax2.set_title('train and val acc')\n",
    "ax2.set_xlabel('epochs')\n",
    "ax2.set_ylabel('acc')\n",
    "ax2.legend()\n",
    "\n",
    "plt.show()"
   ]
  },
  {
   "cell_type": "markdown",
   "id": "debb2586",
   "metadata": {},
   "source": [
    "# 10. 정답 비교"
   ]
  },
  {
   "cell_type": "markdown",
   "id": "1755aa19",
   "metadata": {},
   "source": [
    "- 모델 평가"
   ]
  },
  {
   "cell_type": "code",
   "execution_count": 24,
   "id": "3c7c5492",
   "metadata": {},
   "outputs": [
    {
     "name": "stdout",
     "output_type": "stream",
     "text": [
      "313/313 [==============================] - 0s 927us/step - loss: 0.1517 - acc: 0.9703\n"
     ]
    },
    {
     "data": {
      "text/plain": [
       "[0.1517040878534317, 0.970300018787384]"
      ]
     },
     "execution_count": 24,
     "metadata": {},
     "output_type": "execute_result"
    }
   ],
   "source": [
    "model.evaluate(x_test, y_test)"
   ]
  },
  {
   "cell_type": "markdown",
   "id": "5f7cd771",
   "metadata": {},
   "source": [
    "- 학습된 모델 값예측"
   ]
  },
  {
   "cell_type": "code",
   "execution_count": 25,
   "id": "f3731615",
   "metadata": {},
   "outputs": [
    {
     "name": "stdout",
     "output_type": "stream",
     "text": [
      "313/313 [==============================] - 0s 779us/step\n",
      "(10000, 10)\n",
      "각 클래스에 속할 확률 : \n",
      "[1.6944630e-09 2.4585174e-16 6.7945005e-10 8.8737471e-09 8.4094955e-20\n",
      " 2.5557602e-13 3.3936094e-21 1.0000000e+00 1.6827937e-13 9.9716083e-11]\n"
     ]
    }
   ],
   "source": [
    "import numpy as np\n",
    "\n",
    "results = model.predict(x_test)\n",
    "print(results.shape)\n",
    "np.set_printoptions(precision=7)\n",
    "print(f'각 클래스에 속할 확률 : \\n{results [0]}')"
   ]
  },
  {
   "cell_type": "markdown",
   "id": "fed0cc03",
   "metadata": {},
   "source": [
    "- 예측값 그려서 확인"
   ]
  },
  {
   "cell_type": "code",
   "execution_count": 26,
   "id": "22927207",
   "metadata": {},
   "outputs": [
    {
     "data": {
      "image/png": "[encoded data removed]",
      "text/plain": [
       "<Figure size 432x288 with 1 Axes>"
      ]
     },
     "metadata": {
      "needs_background": "light"
     },
     "output_type": "display_data"
    }
   ],
   "source": [
    "import matplotlib.pyplot as plt\n",
    "\n",
    "arg_results = np.argmax(results, axis = -1) # -1 인덱스축\n",
    "plt.imshow(x_test[0].reshape(28, 28))\n",
    "plt.title('Predicted value of the first image : ' + str(arg_results[0]))\n",
    "plt.show()"
   ]
  },
  {
   "cell_type": "markdown",
   "id": "c8ed4421",
   "metadata": {},
   "source": [
    "- 평가방법1. 혼동행렬"
   ]
  },
  {
   "cell_type": "code",
   "execution_count": 28,
   "id": "1b2bc607",
   "metadata": {},
   "outputs": [
    {
     "data": {
      "image/png": "[encoded data removed]",
      "text/plain": [
       "<Figure size 504x504 with 2 Axes>"
      ]
     },
     "metadata": {
      "needs_background": "light"
     },
     "output_type": "display_data"
    }
   ],
   "source": [
    "from sklearn.metrics import classification_report, confusion_matrix\n",
    "import matplotlib.pyplot as plt\n",
    "import seaborn as sns\n",
    "\n",
    "plt.figure(figsize = (7,7))\n",
    "cm = confusion_matrix(np.argmax(y_test, axis = -1), np.argmax(results, axis = -1))\n",
    "sns.heatmap(cm, annot = True, fmt = 'd', cmap = 'Blues')\n",
    "plt.xlabel('predicted label')\n",
    "plt.ylabel('true label')\n",
    "plt.show()"
   ]
  },
  {
   "cell_type": "code",
   "execution_count": 31,
   "id": "d4c49bb5",
   "metadata": {},
   "outputs": [
    {
     "data": {
      "text/plain": [
       "array([ 3,  2,  1, 18,  4,  8, 11,  0, 61,  7], dtype=int64)"
      ]
     },
     "execution_count": 31,
     "metadata": {},
     "output_type": "execute_result"
    }
   ],
   "source": [
    "np.argmax(y_test, axis = -1)"
   ]
  },
  {
   "cell_type": "code",
   "execution_count": 38,
   "id": "66e55b55",
   "metadata": {},
   "outputs": [
    {
     "data": {
      "text/plain": [
       "array([[0., 0., 0., 0., 0., 0., 0., 1., 0., 0.],\n",
       "       [0., 0., 1., 0., 0., 0., 0., 0., 0., 0.],\n",
       "       [0., 1., 0., 0., 0., 0., 0., 0., 0., 0.],\n",
       "       [1., 0., 0., 0., 0., 0., 0., 0., 0., 0.],\n",
       "       [0., 0., 0., 0., 1., 0., 0., 0., 0., 0.],\n",
       "       [0., 1., 0., 0., 0., 0., 0., 0., 0., 0.],\n",
       "       [0., 0., 0., 0., 1., 0., 0., 0., 0., 0.],\n",
       "       [0., 0., 0., 0., 0., 0., 0., 0., 0., 1.],\n",
       "       [0., 0., 0., 0., 0., 1., 0., 0., 0., 0.],\n",
       "       [0., 0., 0., 0., 0., 0., 0., 0., 0., 1.]], dtype=float32)"
      ]
     },
     "execution_count": 38,
     "metadata": {},
     "output_type": "execute_result"
    }
   ],
   "source": [
    "y_test[:10]"
   ]
  },
  {
   "cell_type": "code",
   "execution_count": 37,
   "id": "740ff881",
   "metadata": {},
   "outputs": [
    {
     "data": {
      "text/plain": [
       "(10000, 10)"
      ]
     },
     "execution_count": 37,
     "metadata": {},
     "output_type": "execute_result"
    }
   ],
   "source": [
    "y_test.shape"
   ]
  },
  {
   "cell_type": "code",
   "execution_count": 34,
   "id": "1694762f",
   "metadata": {},
   "outputs": [
    {
     "data": {
      "text/plain": [
       "array([ 3,  2,  1, 18,  4,  8, 11,  0, 61,  7], dtype=int64)"
      ]
     },
     "execution_count": 34,
     "metadata": {},
     "output_type": "execute_result"
    }
   ],
   "source": [
    "np.argmax(y_test, axis = 0)"
   ]
  },
  {
   "cell_type": "code",
   "execution_count": 35,
   "id": "cd158f80",
   "metadata": {},
   "outputs": [
    {
     "data": {
      "text/plain": [
       "array([7, 2, 1, ..., 4, 5, 6], dtype=int64)"
      ]
     },
     "execution_count": 35,
     "metadata": {},
     "output_type": "execute_result"
    }
   ],
   "source": [
    "np.argmax(y_test, axis = 1)"
   ]
  },
  {
   "cell_type": "code",
   "execution_count": 36,
   "id": "50a47504",
   "metadata": {},
   "outputs": [
    {
     "data": {
      "text/plain": [
       "7"
      ]
     },
     "execution_count": 36,
     "metadata": {},
     "output_type": "execute_result"
    }
   ],
   "source": [
    "np.argmax(y_test)"
   ]
  },
  {
   "cell_type": "code",
   "execution_count": 46,
   "id": "3f3365b9",
   "metadata": {},
   "outputs": [
    {
     "data": {
      "text/plain": [
       "array([7, 2, 1, ..., 4, 5, 6], dtype=int64)"
      ]
     },
     "execution_count": 46,
     "metadata": {},
     "output_type": "execute_result"
    }
   ],
   "source": [
    "np.argmax(results, axis = -1)"
   ]
  },
  {
   "cell_type": "code",
   "execution_count": 47,
   "id": "44764085",
   "metadata": {},
   "outputs": [
    {
     "data": {
      "text/plain": [
       "(10000, 10)"
      ]
     },
     "execution_count": 47,
     "metadata": {},
     "output_type": "execute_result"
    }
   ],
   "source": [
    "results.shape"
   ]
  },
  {
   "cell_type": "code",
   "execution_count": 41,
   "id": "9d7ff43e",
   "metadata": {},
   "outputs": [
    {
     "data": {
      "text/plain": [
       "array([[ 971,    0,    0,    0,    1,    1,    1,    3,    2,    1],\n",
       "       [   1, 1125,    1,    2,    0,    0,    2,    2,    2,    0],\n",
       "       [   5,    4,  987,    1,    3,    1,    4,   19,    8,    0],\n",
       "       [   0,    0,    4,  983,    0,    6,    1,    5,    5,    6],\n",
       "       [   2,    0,    2,    0,  954,    0,    4,    4,    2,   14],\n",
       "       [   3,    2,    0,   14,    0,  860,    3,    3,    5,    2],\n",
       "       [   6,    3,    2,    1,    5,    6,  929,    5,    0,    1],\n",
       "       [   0,    2,    7,    2,    2,    0,    0, 1010,    2,    3],\n",
       "       [   9,    0,    3,   12,    4,    8,    3,   12,  916,    7],\n",
       "       [   2,    3,    0,    5,   10,    1,    0,   17,    3,  968]],\n",
       "      dtype=int64)"
      ]
     },
     "execution_count": 41,
     "metadata": {},
     "output_type": "execute_result"
    }
   ],
   "source": [
    "confusion_matrix(np.argmax(y_test, axis = -1), np.argmax(results, axis = -1))"
   ]
  },
  {
   "cell_type": "markdown",
   "id": "80863af6",
   "metadata": {},
   "source": [
    "- 평가방법2. 분류보고서"
   ]
  },
  {
   "cell_type": "code",
   "execution_count": 48,
   "id": "ffc6035c",
   "metadata": {},
   "outputs": [
    {
     "name": "stdout",
     "output_type": "stream",
     "text": [
      "              precision    recall  f1-score   support\n",
      "\n",
      "           0       0.97      0.99      0.98       980\n",
      "           1       0.99      0.99      0.99      1135\n",
      "           2       0.98      0.96      0.97      1032\n",
      "           3       0.96      0.97      0.97      1010\n",
      "           4       0.97      0.97      0.97       982\n",
      "           5       0.97      0.96      0.97       892\n",
      "           6       0.98      0.97      0.98       958\n",
      "           7       0.94      0.98      0.96      1028\n",
      "           8       0.97      0.94      0.95       974\n",
      "           9       0.97      0.96      0.96      1009\n",
      "\n",
      "    accuracy                           0.97     10000\n",
      "   macro avg       0.97      0.97      0.97     10000\n",
      "weighted avg       0.97      0.97      0.97     10000\n",
      "\n"
     ]
    }
   ],
   "source": [
    "print(classification_report(np.argmax(y_test, axis = -1), np.argmax(results, axis = -1)))"
   ]
  },
  {
   "cell_type": "code",
   "execution_count": null,
   "id": "953e3cbd",
   "metadata": {},
   "outputs": [],
   "source": []
  }
 ],
 "metadata": {
  "kernelspec": {
   "display_name": "keras_study",
   "language": "python",
   "name": "keras_study"
  },
  "language_info": {
   "codemirror_mode": {
    "name": "ipython",
    "version": 3
   },
   "file_extension": ".py",
   "mimetype": "text/x-python",
   "name": "python",
   "nbconvert_exporter": "python",
   "pygments_lexer": "ipython3",
   "version": "3.10.4"
  }
 },
 "nbformat": 4,
 "nbformat_minor": 5
}
